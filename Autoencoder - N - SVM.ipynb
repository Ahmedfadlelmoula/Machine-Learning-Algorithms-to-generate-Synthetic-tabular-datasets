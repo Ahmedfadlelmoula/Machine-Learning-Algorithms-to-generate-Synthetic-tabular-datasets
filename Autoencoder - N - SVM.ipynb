{
 "cells": [
  {
   "cell_type": "code",
   "execution_count": 1,
   "id": "0ec2615f-ca9b-4fc9-9d46-7f34ad49c6d0",
   "metadata": {},
   "outputs": [],
   "source": [
    "import torch\n",
    "import numpy as np\n",
    "import pandas as pd\n",
    "import torch.nn as nn\n",
    "import torch.optim as optim\n",
    "from sklearn.preprocessing import StandardScaler\n",
    "from sklearn.model_selection import train_test_split\n",
    "from sklearn.decomposition import PCA\n",
    "import matplotlib.pyplot as plt\n",
    "\n",
    "import warnings\n",
    "import seaborn as sns\n",
    "from sklearn.metrics import confusion_matrix\n",
    "from sklearn.svm import SVC\n",
    "from sklearn.model_selection import train_test_split\n",
    "from sklearn.metrics import classification_report, accuracy_score\n",
    "from sklearn.model_selection import cross_val_predict, StratifiedKFold\n",
    "from sklearn.metrics import accuracy_score, precision_score, recall_score, f1_score\n",
    "from sklearn.metrics import mean_squared_error, r2_score, confusion_matrix, accuracy_score"
   ]
  },
  {
   "cell_type": "code",
   "execution_count": 2,
   "id": "943c0aec-558d-4831-be06-51713ee96a0f",
   "metadata": {},
   "outputs": [
    {
     "name": "stdout",
     "output_type": "stream",
     "text": [
      "Original data shape: (500, 3736)\n"
     ]
    }
   ],
   "source": [
    "# === Load and Normalize Dataset ===\n",
    "data = pd.read_csv(\"D:\\\\Excel data\\\\Saliva\\\\Healthy (Control)\\\\CONTROL DATASET.csv\")\n",
    "X = data.values\n",
    "\n",
    "# Optional: check shape\n",
    "print(\"Original data shape:\", data.shape)"
   ]
  },
  {
   "cell_type": "code",
   "execution_count": 3,
   "id": "63348727-758b-4f20-a332-b4834b75cdfc",
   "metadata": {},
   "outputs": [],
   "source": [
    "# === Standar Scaler ===\n",
    "scaler = StandardScaler()\n",
    "X_scaled = scaler.fit_transform(X)"
   ]
  },
  {
   "cell_type": "code",
   "execution_count": 4,
   "id": "7d219271-67cb-44a4-83ee-8a2bfb5baebd",
   "metadata": {},
   "outputs": [],
   "source": [
    "# === Split Dataset ===\n",
    "X_train, X_test = train_test_split(X_scaled, test_size=0.2, random_state=42)"
   ]
  },
  {
   "cell_type": "code",
   "execution_count": 5,
   "id": "0bdd5755-fbf0-40d5-81e2-fafa5e6f9b41",
   "metadata": {},
   "outputs": [],
   "source": [
    "# === Apply PCA to Reduce Noise ===\n",
    "pca = PCA(n_components=0.99, svd_solver='full')\n",
    "X_train_pca = pca.fit_transform(X_train)\n",
    "X_test_pca = pca.transform(X_test)"
   ]
  },
  {
   "cell_type": "code",
   "execution_count": 6,
   "id": "bb34e7b6-de24-4f7a-b9c4-0057fbb3871b",
   "metadata": {},
   "outputs": [],
   "source": [
    "# === Convert to Tensors ===\n",
    "X_train_tensor = torch.tensor(X_train_pca, dtype=torch.float32)\n",
    "X_test_tensor = torch.tensor(X_test_pca, dtype=torch.float32)"
   ]
  },
  {
   "cell_type": "code",
   "execution_count": 7,
   "id": "d65dad05-59d1-47ad-a014-e54174fe6050",
   "metadata": {},
   "outputs": [],
   "source": [
    "# Create DataLoader for training and testing \n",
    "batch_size = 16\n",
    "train_loader = torch.utils.data.DataLoader(X_train_tensor, batch_size=batch_size, shuffle=True)\n",
    "test_loader = torch.utils.data.DataLoader(X_test_tensor, batch_size=batch_size, shuffle=False)"
   ]
  },
  {
   "cell_type": "code",
   "execution_count": 8,
   "id": "91a53d3f-d594-4ed3-a715-d7bfa525c6bf",
   "metadata": {},
   "outputs": [
    {
     "name": "stdout",
     "output_type": "stream",
     "text": [
      "Training tensor shape: torch.Size([400, 19])\n",
      "Test tensor shape: torch.Size([100, 19])\n"
     ]
    }
   ],
   "source": [
    "print(\"Training tensor shape:\", X_train_tensor.shape)\n",
    "print(\"Test tensor shape:\", X_test_tensor.shape)"
   ]
  },
  {
   "cell_type": "code",
   "execution_count": 9,
   "id": "8b40d033-655d-4834-bbd6-f795a092ddc1",
   "metadata": {},
   "outputs": [],
   "source": [
    "# === Define Autoencoder ===\n",
    "class Autoencoder(nn.Module):\n",
    "    def __init__(self, input_dim, encoding_dim=32):\n",
    "        super(Autoencoder, self).__init__()\n",
    "        self.encoder = nn.Sequential(\n",
    "            nn.Linear(input_dim, 128),\n",
    "            nn.ReLU(),\n",
    "            nn.Linear(128, encoding_dim)\n",
    "        )\n",
    "        self.decoder = nn.Sequential(\n",
    "            nn.Linear(encoding_dim, 128),\n",
    "            nn.ReLU(),\n",
    "            nn.Linear(128, input_dim)\n",
    "        )\n",
    "\n",
    "    def forward(self, x):\n",
    "        encoded = self.encoder(x)\n",
    "        decoded = self.decoder(encoded)\n",
    "        return encoded, decoded"
   ]
  },
  {
   "cell_type": "code",
   "execution_count": 10,
   "id": "2598b0ff-3acf-4811-ae0d-7fcd2a29cb05",
   "metadata": {},
   "outputs": [],
   "source": [
    "# === Training Setup ===\n",
    "input_dim = X_train_pca.shape[1]\n",
    "encoding_dim = 32\n",
    "device = torch.device(\"cuda\" if torch.cuda.is_available() else \"cpu\")\n",
    "\n",
    "model = Autoencoder(input_dim, encoding_dim).to(device)\n",
    "criterion = nn.MSELoss()\n",
    "optimizer = optim.Adam(model.parameters(), lr=0.0005)"
   ]
  },
  {
   "cell_type": "code",
   "execution_count": 11,
   "id": "53e80f42-21da-41f0-96c6-badbe6c7896e",
   "metadata": {},
   "outputs": [
    {
     "name": "stdout",
     "output_type": "stream",
     "text": [
      "Epoch [1000/10000], Train Loss: 0.0350, Val Loss: 0.1092\n",
      "Epoch [2000/10000], Train Loss: 0.0033, Val Loss: 0.0881\n",
      "Epoch [3000/10000], Train Loss: 0.0023, Val Loss: 0.0881\n",
      "Epoch [4000/10000], Train Loss: 0.0073, Val Loss: 0.0946\n",
      "Epoch [5000/10000], Train Loss: 0.0175, Val Loss: 0.1006\n",
      "Epoch [6000/10000], Train Loss: 0.0074, Val Loss: 0.1037\n",
      "Epoch [7000/10000], Train Loss: 0.0085, Val Loss: 0.0918\n",
      "Epoch [8000/10000], Train Loss: 0.0203, Val Loss: 0.1024\n",
      "Epoch [9000/10000], Train Loss: 0.0277, Val Loss: 0.1105\n",
      "Epoch [10000/10000], Train Loss: 0.0037, Val Loss: 0.0876\n"
     ]
    },
    {
     "data": {
      "image/png": "[encoded data removed]",
      "text/plain": [
       "<Figure size 640x480 with 1 Axes>"
      ]
     },
     "metadata": {},
     "output_type": "display_data"
    }
   ],
   "source": [
    "# === Training Loop ===\n",
    "num_epochs = 10000\n",
    "train_losses, val_losses = [], []\n",
    "\n",
    "for epoch in range(num_epochs):\n",
    "    model.train()\n",
    "    train_loss = 0\n",
    "    for batch in train_loader:\n",
    "        inputs = batch.to(device)\n",
    "        optimizer.zero_grad()\n",
    "        _, outputs = model(inputs)\n",
    "        loss = criterion(outputs, inputs)\n",
    "        loss.backward()\n",
    "        optimizer.step()\n",
    "        train_loss += loss.item()\n",
    "\n",
    "    train_losses.append(train_loss / len(train_loader))\n",
    "\n",
    "    # === Validation ===\n",
    "    model.eval()\n",
    "    val_loss = 0\n",
    "    with torch.no_grad():\n",
    "        for batch in test_loader:\n",
    "            inputs = batch.to(device)\n",
    "            _, outputs = model(inputs)\n",
    "            val_loss += criterion(outputs, inputs).item()\n",
    "    val_losses.append(val_loss / len(test_loader))\n",
    "\n",
    "    # === Print Progress ===\n",
    "    if (epoch + 1) % 1000 == 0:\n",
    "        print(f\"Epoch [{epoch+1}/{num_epochs}], Train Loss: {train_losses[-1]:.4f}, Val Loss: {val_losses[-1]:.4f}\")\n",
    "\n",
    "# === Plot Loss Curves ===\n",
    "plt.plot(train_losses, label='Train Loss')\n",
    "plt.plot(val_losses, label='Validation Loss')\n",
    "plt.xlabel('Epoch')\n",
    "plt.ylabel('Loss')\n",
    "plt.legend()\n",
    "plt.title('Training and Validation Loss')\n",
    "plt.show()"
   ]
  },
  {
   "cell_type": "code",
   "execution_count": 12,
   "id": "e8f2731d-19a9-41f4-9df9-3776a8d5b342",
   "metadata": {},
   "outputs": [
    {
     "name": "stdout",
     "output_type": "stream",
     "text": [
      "Synthetic data shape: (500, 3736)\n"
     ]
    }
   ],
   "source": [
    "# === Generate Synthetic Data ===\n",
    "model.eval()\n",
    "n_samples = 500\n",
    "latent_dim = encoding_dim\n",
    "\n",
    "latent_samples = torch.randn(n_samples, latent_dim).to(device)\n",
    "with torch.no_grad():\n",
    "    synthetic_decoded = model.decoder(latent_samples)\n",
    "\n",
    "synthetic_decoded_np = synthetic_decoded.cpu().numpy()\n",
    "synthetic_original_space = pca.inverse_transform(synthetic_decoded_np)\n",
    "synthetic_data = scaler.inverse_transform(synthetic_original_space)\n",
    "\n",
    "print(\"Synthetic data shape:\", synthetic_data.shape)"
   ]
  },
  {
   "cell_type": "code",
   "execution_count": 13,
   "id": "5237bede-bb0e-4fab-b49c-ace71030b7dc",
   "metadata": {},
   "outputs": [
    {
     "name": "stdout",
     "output_type": "stream",
     "text": [
      "✅ 500 synthetic samples generated and saved successfully!\n"
     ]
    }
   ],
   "source": [
    "# Reload real data to get column names\n",
    "real_data = pd.read_csv('D:\\\\Excel data\\\\Saliva\\\\Healthy (Control)\\\\CONTROL DATASET.csv')\n",
    "\n",
    "# Create a DataFrame for the synthetic data with correct columns\n",
    "synthetic_df = pd.DataFrame(synthetic_data, columns=real_data.columns)\n",
    "\n",
    "# Save to CSV\n",
    "synthetic_df.to_csv('C:\\\\Users\\\\Ahmed\\\\Final\\\\synthetic_data_AE_SVM.csv', index=False)\n",
    "\n",
    "print(\"✅ 500 synthetic samples generated and saved successfully!\")"
   ]
  },
  {
   "cell_type": "code",
   "execution_count": 14,
   "id": "4d8e4b75-ecba-46b8-b0a3-6e1dfe8be00a",
   "metadata": {},
   "outputs": [
    {
     "name": "stdout",
     "output_type": "stream",
     "text": [
      "X_train shape: (400, 3736)\n",
      "synthetic_data shape: (500, 3736)\n",
      "Total elements in X_train: 1494400\n",
      "Total elements in synthetic_data: 1868000\n"
     ]
    }
   ],
   "source": [
    "print(\"X_train shape:\", X_train.shape)\n",
    "print(\"synthetic_data shape:\", synthetic_data.shape)\n",
    "print(\"Total elements in X_train:\", X_train.size)\n",
    "print(\"Total elements in synthetic_data:\", synthetic_data.size)"
   ]
  },
  {
   "cell_type": "code",
   "execution_count": 15,
   "id": "c2e5342b-57b0-45a1-a0ee-fa3c1ff475fb",
   "metadata": {},
   "outputs": [
    {
     "data": {
      "text/plain": [
       "[<matplotlib.lines.Line2D at 0x1f24734a9c0>]"
      ]
     },
     "execution_count": 15,
     "metadata": {},
     "output_type": "execute_result"
    },
    {
     "data": {
      "image/png": "[encoded data removed]",
      "text/plain": [
       "<Figure size 640x480 with 1 Axes>"
      ]
     },
     "metadata": {},
     "output_type": "display_data"
    }
   ],
   "source": [
    "plt.plot(synthetic_data[20,:])"
   ]
  },
  {
   "cell_type": "code",
   "execution_count": 16,
   "id": "d45b85e4-374a-4587-bfff-be27ccd48d15",
   "metadata": {},
   "outputs": [
    {
     "data": {
      "text/plain": [
       "[<matplotlib.lines.Line2D at 0x1f245a5efc0>]"
      ]
     },
     "execution_count": 16,
     "metadata": {},
     "output_type": "execute_result"
    },
    {
     "data": {
      "image/png": "[encoded data removed]",
      "text/plain": [
       "<Figure size 640x480 with 1 Axes>"
      ]
     },
     "metadata": {},
     "output_type": "display_data"
    }
   ],
   "source": [
    "plt.plot(X[20,:])"
   ]
  },
  {
   "cell_type": "code",
   "execution_count": 17,
   "id": "f37cb74d-4fde-4e6d-a484-8743e51ecd59",
   "metadata": {},
   "outputs": [
    {
     "data": {
      "text/plain": [
       "(500, 3736)"
      ]
     },
     "execution_count": 17,
     "metadata": {},
     "output_type": "execute_result"
    }
   ],
   "source": [
    "np.shape(synthetic_data)"
   ]
  },
  {
   "cell_type": "code",
   "execution_count": 18,
   "id": "fb7e6cb8-0e39-4a21-832a-19561b765c2e",
   "metadata": {},
   "outputs": [
    {
     "data": {
      "text/plain": [
       "(400, 3736)"
      ]
     },
     "execution_count": 18,
     "metadata": {},
     "output_type": "execute_result"
    }
   ],
   "source": [
    "np.shape(X_train)"
   ]
  },
  {
   "cell_type": "code",
   "execution_count": 19,
   "id": "1776fd1a-bbe2-4e3a-95cd-8332fd7dfca8",
   "metadata": {},
   "outputs": [],
   "source": [
    "Y = pd.read_csv('C:\\\\Users\\\\Ahmed\\\\Final\\\\synthetic_data_AE_SVM.csv')  "
   ]
  },
  {
   "cell_type": "code",
   "execution_count": 20,
   "id": "6ae5cde6-02ba-414c-8c4e-0e3d96083c7b",
   "metadata": {},
   "outputs": [
    {
     "name": "stdout",
     "output_type": "stream",
     "text": [
      "     Wavelenght399  Wavelenght400  Wavelenght401  Wavelenght402  \\\n",
      "0         0.015236       0.014044       0.012580       0.011219   \n",
      "1         0.015258       0.015114       0.014445       0.013633   \n",
      "2         0.018012       0.017567       0.016307       0.014778   \n",
      "3         0.016497       0.015980       0.015095       0.014194   \n",
      "4         0.011148       0.012882       0.014374       0.015376   \n",
      "..             ...            ...            ...            ...   \n",
      "495       0.010061       0.010207       0.010417       0.010676   \n",
      "496       0.013573       0.012726       0.011523       0.010410   \n",
      "497       0.010503       0.011149       0.011419       0.011408   \n",
      "498       0.009715       0.009750       0.009911       0.010151   \n",
      "499       0.008663       0.010175       0.011810       0.013236   \n",
      "\n",
      "     Wavelenght403  Wavelenght404  Wavelenght405  Wavelenght406  \\\n",
      "0         0.010136       0.009484       0.009440       0.010122   \n",
      "1         0.012871       0.012262       0.011918       0.011978   \n",
      "2         0.013322       0.012209       0.011703       0.012014   \n",
      "3         0.013498       0.013143       0.013203       0.013669   \n",
      "4         0.015806       0.015733       0.015373       0.015018   \n",
      "..             ...            ...            ...            ...   \n",
      "495       0.010819       0.010748       0.010544       0.010460   \n",
      "496       0.009595       0.009182       0.009249       0.009835   \n",
      "497       0.011389       0.011635       0.012300       0.013326   \n",
      "498       0.010590       0.011406       0.012691       0.014324   \n",
      "499       0.014350       0.015173       0.015784       0.016260   \n",
      "\n",
      "     Wavelenght407  Wavelenght408  ...  Wavelenght4125  Wavelenght4126  \\\n",
      "0         0.011464       0.013167  ...        0.040483        0.040428   \n",
      "1         0.012542       0.013571  ...        0.040650        0.040617   \n",
      "2         0.013166       0.014920  ...        0.040944        0.040918   \n",
      "3         0.014422       0.015246  ...        0.042159        0.042111   \n",
      "4         0.014904       0.015083  ...        0.040938        0.040817   \n",
      "..             ...            ...  ...             ...             ...   \n",
      "495       0.010758       0.011505  ...        0.040437        0.040303   \n",
      "496       0.010881       0.012202  ...        0.040487        0.040455   \n",
      "497       0.014432       0.015222  ...        0.040542        0.040385   \n",
      "498       0.015963       0.017166  ...        0.039455        0.039381   \n",
      "499       0.016622       0.016793  ...        0.040963        0.040808   \n",
      "\n",
      "     Wavelenght4127  Wavelenght4128  Wavelenght4129  Wavelenght4130  \\\n",
      "0          0.040407        0.040389        0.040329        0.040207   \n",
      "1          0.040626        0.040652        0.040654        0.040607   \n",
      "2          0.040923        0.040902        0.040808        0.040645   \n",
      "3          0.042097        0.042106        0.042099        0.042050   \n",
      "4          0.040661        0.040471        0.040244        0.040001   \n",
      "..              ...             ...             ...             ...   \n",
      "495        0.040191        0.040100        0.039995        0.039845   \n",
      "496        0.040422        0.040371        0.040278        0.040149   \n",
      "497        0.040252        0.040157        0.040086        0.040032   \n",
      "498        0.039337        0.039316        0.039298        0.039275   \n",
      "499        0.040682        0.040605        0.040559        0.040521   \n",
      "\n",
      "     Wavelenght4131  Wavelenght4132  Wavelenght4133  Wavelenght4134  \n",
      "0          0.040054        0.039929        0.039884        0.040326  \n",
      "1          0.040528        0.040454        0.040415        0.040803  \n",
      "2          0.040475        0.040377        0.040394        0.040991  \n",
      "3          0.041967        0.041893        0.041872        0.042232  \n",
      "4          0.039798        0.039700        0.039745        0.040292  \n",
      "..              ...             ...             ...             ...  \n",
      "495        0.039664        0.039504        0.039421        0.039838  \n",
      "496        0.040020        0.039938        0.039932        0.040429  \n",
      "497        0.040006        0.040034        0.040131        0.040561  \n",
      "498        0.039255        0.039259        0.039304        0.039684  \n",
      "499        0.040485        0.040470        0.040500        0.040898  \n",
      "\n",
      "[500 rows x 3736 columns]\n"
     ]
    }
   ],
   "source": [
    "print (Y)"
   ]
  },
  {
   "cell_type": "code",
   "execution_count": 21,
   "id": "07742be8-211b-44ff-b233-91300dfddd2d",
   "metadata": {},
   "outputs": [],
   "source": [
    "data_fake = Y"
   ]
  },
  {
   "cell_type": "code",
   "execution_count": 22,
   "id": "c192615f-e1bc-4a39-bb6a-8a22afcbe01e",
   "metadata": {},
   "outputs": [
    {
     "data": {
      "text/html": [
       "<div>\n",
       "<style scoped>\n",
       "    .dataframe tbody tr th:only-of-type {\n",
       "        vertical-align: middle;\n",
       "    }\n",
       "\n",
       "    .dataframe tbody tr th {\n",
       "        vertical-align: top;\n",
       "    }\n",
       "\n",
       "    .dataframe thead th {\n",
       "        text-align: right;\n",
       "    }\n",
       "</style>\n",
       "<table border=\"1\" class=\"dataframe\">\n",
       "  <thead>\n",
       "    <tr style=\"text-align: right;\">\n",
       "      <th></th>\n",
       "      <th>Wavelenght399</th>\n",
       "      <th>Wavelenght400</th>\n",
       "      <th>Wavelenght401</th>\n",
       "      <th>Wavelenght402</th>\n",
       "      <th>Wavelenght403</th>\n",
       "      <th>Wavelenght404</th>\n",
       "      <th>Wavelenght405</th>\n",
       "      <th>Wavelenght406</th>\n",
       "      <th>Wavelenght407</th>\n",
       "      <th>Wavelenght408</th>\n",
       "      <th>...</th>\n",
       "      <th>Wavelenght4125</th>\n",
       "      <th>Wavelenght4126</th>\n",
       "      <th>Wavelenght4127</th>\n",
       "      <th>Wavelenght4128</th>\n",
       "      <th>Wavelenght4129</th>\n",
       "      <th>Wavelenght4130</th>\n",
       "      <th>Wavelenght4131</th>\n",
       "      <th>Wavelenght4132</th>\n",
       "      <th>Wavelenght4133</th>\n",
       "      <th>Wavelenght4134</th>\n",
       "    </tr>\n",
       "  </thead>\n",
       "  <tbody>\n",
       "    <tr>\n",
       "      <th>0</th>\n",
       "      <td>0.015236</td>\n",
       "      <td>0.014044</td>\n",
       "      <td>0.012580</td>\n",
       "      <td>0.011219</td>\n",
       "      <td>0.010136</td>\n",
       "      <td>0.009484</td>\n",
       "      <td>0.009440</td>\n",
       "      <td>0.010122</td>\n",
       "      <td>0.011464</td>\n",
       "      <td>0.013167</td>\n",
       "      <td>...</td>\n",
       "      <td>0.040483</td>\n",
       "      <td>0.040428</td>\n",
       "      <td>0.040407</td>\n",
       "      <td>0.040389</td>\n",
       "      <td>0.040329</td>\n",
       "      <td>0.040207</td>\n",
       "      <td>0.040054</td>\n",
       "      <td>0.039929</td>\n",
       "      <td>0.039884</td>\n",
       "      <td>0.040326</td>\n",
       "    </tr>\n",
       "    <tr>\n",
       "      <th>1</th>\n",
       "      <td>0.015258</td>\n",
       "      <td>0.015114</td>\n",
       "      <td>0.014445</td>\n",
       "      <td>0.013633</td>\n",
       "      <td>0.012871</td>\n",
       "      <td>0.012262</td>\n",
       "      <td>0.011918</td>\n",
       "      <td>0.011978</td>\n",
       "      <td>0.012542</td>\n",
       "      <td>0.013571</td>\n",
       "      <td>...</td>\n",
       "      <td>0.040650</td>\n",
       "      <td>0.040617</td>\n",
       "      <td>0.040626</td>\n",
       "      <td>0.040652</td>\n",
       "      <td>0.040654</td>\n",
       "      <td>0.040607</td>\n",
       "      <td>0.040528</td>\n",
       "      <td>0.040454</td>\n",
       "      <td>0.040415</td>\n",
       "      <td>0.040803</td>\n",
       "    </tr>\n",
       "    <tr>\n",
       "      <th>2</th>\n",
       "      <td>0.018012</td>\n",
       "      <td>0.017567</td>\n",
       "      <td>0.016307</td>\n",
       "      <td>0.014778</td>\n",
       "      <td>0.013322</td>\n",
       "      <td>0.012209</td>\n",
       "      <td>0.011703</td>\n",
       "      <td>0.012014</td>\n",
       "      <td>0.013166</td>\n",
       "      <td>0.014920</td>\n",
       "      <td>...</td>\n",
       "      <td>0.040944</td>\n",
       "      <td>0.040918</td>\n",
       "      <td>0.040923</td>\n",
       "      <td>0.040902</td>\n",
       "      <td>0.040808</td>\n",
       "      <td>0.040645</td>\n",
       "      <td>0.040475</td>\n",
       "      <td>0.040377</td>\n",
       "      <td>0.040394</td>\n",
       "      <td>0.040991</td>\n",
       "    </tr>\n",
       "    <tr>\n",
       "      <th>3</th>\n",
       "      <td>0.016497</td>\n",
       "      <td>0.015980</td>\n",
       "      <td>0.015095</td>\n",
       "      <td>0.014194</td>\n",
       "      <td>0.013498</td>\n",
       "      <td>0.013143</td>\n",
       "      <td>0.013203</td>\n",
       "      <td>0.013669</td>\n",
       "      <td>0.014422</td>\n",
       "      <td>0.015246</td>\n",
       "      <td>...</td>\n",
       "      <td>0.042159</td>\n",
       "      <td>0.042111</td>\n",
       "      <td>0.042097</td>\n",
       "      <td>0.042106</td>\n",
       "      <td>0.042099</td>\n",
       "      <td>0.042050</td>\n",
       "      <td>0.041967</td>\n",
       "      <td>0.041893</td>\n",
       "      <td>0.041872</td>\n",
       "      <td>0.042232</td>\n",
       "    </tr>\n",
       "    <tr>\n",
       "      <th>4</th>\n",
       "      <td>0.011148</td>\n",
       "      <td>0.012882</td>\n",
       "      <td>0.014374</td>\n",
       "      <td>0.015376</td>\n",
       "      <td>0.015806</td>\n",
       "      <td>0.015733</td>\n",
       "      <td>0.015373</td>\n",
       "      <td>0.015018</td>\n",
       "      <td>0.014904</td>\n",
       "      <td>0.015083</td>\n",
       "      <td>...</td>\n",
       "      <td>0.040938</td>\n",
       "      <td>0.040817</td>\n",
       "      <td>0.040661</td>\n",
       "      <td>0.040471</td>\n",
       "      <td>0.040244</td>\n",
       "      <td>0.040001</td>\n",
       "      <td>0.039798</td>\n",
       "      <td>0.039700</td>\n",
       "      <td>0.039745</td>\n",
       "      <td>0.040292</td>\n",
       "    </tr>\n",
       "  </tbody>\n",
       "</table>\n",
       "<p>5 rows × 3736 columns</p>\n",
       "</div>"
      ],
      "text/plain": [
       "   Wavelenght399  Wavelenght400  Wavelenght401  Wavelenght402  Wavelenght403  \\\n",
       "0       0.015236       0.014044       0.012580       0.011219       0.010136   \n",
       "1       0.015258       0.015114       0.014445       0.013633       0.012871   \n",
       "2       0.018012       0.017567       0.016307       0.014778       0.013322   \n",
       "3       0.016497       0.015980       0.015095       0.014194       0.013498   \n",
       "4       0.011148       0.012882       0.014374       0.015376       0.015806   \n",
       "\n",
       "   Wavelenght404  Wavelenght405  Wavelenght406  Wavelenght407  Wavelenght408  \\\n",
       "0       0.009484       0.009440       0.010122       0.011464       0.013167   \n",
       "1       0.012262       0.011918       0.011978       0.012542       0.013571   \n",
       "2       0.012209       0.011703       0.012014       0.013166       0.014920   \n",
       "3       0.013143       0.013203       0.013669       0.014422       0.015246   \n",
       "4       0.015733       0.015373       0.015018       0.014904       0.015083   \n",
       "\n",
       "   ...  Wavelenght4125  Wavelenght4126  Wavelenght4127  Wavelenght4128  \\\n",
       "0  ...        0.040483        0.040428        0.040407        0.040389   \n",
       "1  ...        0.040650        0.040617        0.040626        0.040652   \n",
       "2  ...        0.040944        0.040918        0.040923        0.040902   \n",
       "3  ...        0.042159        0.042111        0.042097        0.042106   \n",
       "4  ...        0.040938        0.040817        0.040661        0.040471   \n",
       "\n",
       "   Wavelenght4129  Wavelenght4130  Wavelenght4131  Wavelenght4132  \\\n",
       "0        0.040329        0.040207        0.040054        0.039929   \n",
       "1        0.040654        0.040607        0.040528        0.040454   \n",
       "2        0.040808        0.040645        0.040475        0.040377   \n",
       "3        0.042099        0.042050        0.041967        0.041893   \n",
       "4        0.040244        0.040001        0.039798        0.039700   \n",
       "\n",
       "   Wavelenght4133  Wavelenght4134  \n",
       "0        0.039884        0.040326  \n",
       "1        0.040415        0.040803  \n",
       "2        0.040394        0.040991  \n",
       "3        0.041872        0.042232  \n",
       "4        0.039745        0.040292  \n",
       "\n",
       "[5 rows x 3736 columns]"
      ]
     },
     "execution_count": 22,
     "metadata": {},
     "output_type": "execute_result"
    }
   ],
   "source": [
    "data_fake.head()"
   ]
  },
  {
   "cell_type": "code",
   "execution_count": 23,
   "id": "8033156c-bbb8-4229-8f8c-a6af24e761b8",
   "metadata": {},
   "outputs": [
    {
     "name": "stdout",
     "output_type": "stream",
     "text": [
      "Requirement already satisfied: table_evaluator in c:\\users\\ahmed\\anaconda3\\lib\\site-packages (1.7.2.post1)\n",
      "Requirement already satisfied: dython==0.7.7 in c:\\users\\ahmed\\anaconda3\\lib\\site-packages (from table_evaluator) (0.7.7)\n",
      "Requirement already satisfied: ipython<9.0.0,>=8.28.0 in c:\\users\\ahmed\\anaconda3\\lib\\site-packages (from table_evaluator) (8.29.0)\n",
      "Requirement already satisfied: matplotlib<4.0.0,>=3.9.2 in c:\\users\\ahmed\\anaconda3\\lib\\site-packages (from table_evaluator) (3.9.2)\n",
      "Requirement already satisfied: numpy==1.26.4 in c:\\users\\ahmed\\anaconda3\\lib\\site-packages (from table_evaluator) (1.26.4)\n",
      "Requirement already satisfied: pandas<3.0.0,>=2.0.0 in c:\\users\\ahmed\\anaconda3\\lib\\site-packages (from table_evaluator) (2.2.3)\n",
      "Requirement already satisfied: pre-commit<4.0.0,>=3.8.0 in c:\\users\\ahmed\\anaconda3\\lib\\site-packages (from table_evaluator) (3.8.0)\n",
      "Requirement already satisfied: pyarrow<18.0.0,>=17.0.0 in c:\\users\\ahmed\\anaconda3\\lib\\site-packages (from table_evaluator) (17.0.0)\n",
      "Requirement already satisfied: ruff<0.7.0,>=0.6.9 in c:\\users\\ahmed\\anaconda3\\lib\\site-packages (from table_evaluator) (0.6.9)\n",
      "Requirement already satisfied: scikit-learn<2.0.0,>=1.5.1 in c:\\users\\ahmed\\anaconda3\\lib\\site-packages (from table_evaluator) (1.6.1)\n",
      "Requirement already satisfied: scipy==1.11.4 in c:\\users\\ahmed\\anaconda3\\lib\\site-packages (from table_evaluator) (1.11.4)\n",
      "Requirement already satisfied: seaborn<0.14.0,>=0.13.2 in c:\\users\\ahmed\\anaconda3\\lib\\site-packages (from table_evaluator) (0.13.2)\n",
      "Requirement already satisfied: tqdm<5.0.0,>=4.66.5 in c:\\users\\ahmed\\anaconda3\\lib\\site-packages (from table_evaluator) (4.66.5)\n",
      "Requirement already satisfied: psutil>=5.9.1 in c:\\users\\ahmed\\appdata\\roaming\\python\\python312\\site-packages (from dython==0.7.7->table_evaluator) (6.1.0)\n",
      "Requirement already satisfied: setuptools in c:\\users\\ahmed\\anaconda3\\lib\\site-packages (from dython==0.7.7->table_evaluator) (75.8.0)\n",
      "Requirement already satisfied: decorator in c:\\users\\ahmed\\anaconda3\\lib\\site-packages (from ipython<9.0.0,>=8.28.0->table_evaluator) (5.1.1)\n",
      "Requirement already satisfied: jedi>=0.16 in c:\\users\\ahmed\\anaconda3\\lib\\site-packages (from ipython<9.0.0,>=8.28.0->table_evaluator) (0.19.1)\n",
      "Requirement already satisfied: matplotlib-inline in c:\\users\\ahmed\\anaconda3\\lib\\site-packages (from ipython<9.0.0,>=8.28.0->table_evaluator) (0.1.6)\n",
      "Requirement already satisfied: prompt-toolkit<3.1.0,>=3.0.41 in c:\\users\\ahmed\\anaconda3\\lib\\site-packages (from ipython<9.0.0,>=8.28.0->table_evaluator) (3.0.43)\n",
      "Requirement already satisfied: pygments>=2.4.0 in c:\\users\\ahmed\\anaconda3\\lib\\site-packages (from ipython<9.0.0,>=8.28.0->table_evaluator) (2.15.1)\n",
      "Requirement already satisfied: stack-data in c:\\users\\ahmed\\anaconda3\\lib\\site-packages (from ipython<9.0.0,>=8.28.0->table_evaluator) (0.2.0)\n",
      "Requirement already satisfied: traitlets>=5.13.0 in c:\\users\\ahmed\\anaconda3\\lib\\site-packages (from ipython<9.0.0,>=8.28.0->table_evaluator) (5.14.3)\n",
      "Requirement already satisfied: colorama in c:\\users\\ahmed\\anaconda3\\lib\\site-packages (from ipython<9.0.0,>=8.28.0->table_evaluator) (0.4.6)\n",
      "Requirement already satisfied: contourpy>=1.0.1 in c:\\users\\ahmed\\anaconda3\\lib\\site-packages (from matplotlib<4.0.0,>=3.9.2->table_evaluator) (1.2.0)\n",
      "Requirement already satisfied: cycler>=0.10 in c:\\users\\ahmed\\anaconda3\\lib\\site-packages (from matplotlib<4.0.0,>=3.9.2->table_evaluator) (0.11.0)\n",
      "Requirement already satisfied: fonttools>=4.22.0 in c:\\users\\ahmed\\anaconda3\\lib\\site-packages (from matplotlib<4.0.0,>=3.9.2->table_evaluator) (4.51.0)\n",
      "Requirement already satisfied: kiwisolver>=1.3.1 in c:\\users\\ahmed\\anaconda3\\lib\\site-packages (from matplotlib<4.0.0,>=3.9.2->table_evaluator) (1.4.4)\n",
      "Requirement already satisfied: packaging>=20.0 in c:\\users\\ahmed\\anaconda3\\lib\\site-packages (from matplotlib<4.0.0,>=3.9.2->table_evaluator) (24.1)\n",
      "Requirement already satisfied: pillow>=8 in c:\\users\\ahmed\\anaconda3\\lib\\site-packages (from matplotlib<4.0.0,>=3.9.2->table_evaluator) (10.4.0)\n",
      "Requirement already satisfied: pyparsing>=2.3.1 in c:\\users\\ahmed\\anaconda3\\lib\\site-packages (from matplotlib<4.0.0,>=3.9.2->table_evaluator) (3.1.2)\n",
      "Requirement already satisfied: python-dateutil>=2.7 in c:\\users\\ahmed\\anaconda3\\lib\\site-packages (from matplotlib<4.0.0,>=3.9.2->table_evaluator) (2.9.0.post0)\n",
      "Requirement already satisfied: pytz>=2020.1 in c:\\users\\ahmed\\anaconda3\\lib\\site-packages (from pandas<3.0.0,>=2.0.0->table_evaluator) (2024.1)\n",
      "Requirement already satisfied: tzdata>=2022.7 in c:\\users\\ahmed\\anaconda3\\lib\\site-packages (from pandas<3.0.0,>=2.0.0->table_evaluator) (2023.3)\n",
      "Requirement already satisfied: cfgv>=2.0.0 in c:\\users\\ahmed\\anaconda3\\lib\\site-packages (from pre-commit<4.0.0,>=3.8.0->table_evaluator) (3.4.0)\n",
      "Requirement already satisfied: identify>=1.0.0 in c:\\users\\ahmed\\anaconda3\\lib\\site-packages (from pre-commit<4.0.0,>=3.8.0->table_evaluator) (2.6.1)\n",
      "Requirement already satisfied: nodeenv>=0.11.1 in c:\\users\\ahmed\\anaconda3\\lib\\site-packages (from pre-commit<4.0.0,>=3.8.0->table_evaluator) (1.9.1)\n",
      "Requirement already satisfied: pyyaml>=5.1 in c:\\users\\ahmed\\anaconda3\\lib\\site-packages (from pre-commit<4.0.0,>=3.8.0->table_evaluator) (6.0.1)\n",
      "Requirement already satisfied: virtualenv>=20.10.0 in c:\\users\\ahmed\\anaconda3\\lib\\site-packages (from pre-commit<4.0.0,>=3.8.0->table_evaluator) (20.27.0)\n",
      "Requirement already satisfied: joblib>=1.2.0 in c:\\users\\ahmed\\anaconda3\\lib\\site-packages (from scikit-learn<2.0.0,>=1.5.1->table_evaluator) (1.4.2)\n",
      "Requirement already satisfied: threadpoolctl>=3.1.0 in c:\\users\\ahmed\\anaconda3\\lib\\site-packages (from scikit-learn<2.0.0,>=1.5.1->table_evaluator) (3.5.0)\n",
      "Requirement already satisfied: parso<0.9.0,>=0.8.3 in c:\\users\\ahmed\\anaconda3\\lib\\site-packages (from jedi>=0.16->ipython<9.0.0,>=8.28.0->table_evaluator) (0.8.3)\n",
      "Requirement already satisfied: wcwidth in c:\\users\\ahmed\\anaconda3\\lib\\site-packages (from prompt-toolkit<3.1.0,>=3.0.41->ipython<9.0.0,>=8.28.0->table_evaluator) (0.2.5)\n",
      "Requirement already satisfied: six>=1.5 in c:\\users\\ahmed\\anaconda3\\lib\\site-packages (from python-dateutil>=2.7->matplotlib<4.0.0,>=3.9.2->table_evaluator) (1.16.0)\n",
      "Requirement already satisfied: distlib<1,>=0.3.7 in c:\\users\\ahmed\\anaconda3\\lib\\site-packages (from virtualenv>=20.10.0->pre-commit<4.0.0,>=3.8.0->table_evaluator) (0.3.9)\n",
      "Requirement already satisfied: filelock<4,>=3.12.2 in c:\\users\\ahmed\\anaconda3\\lib\\site-packages (from virtualenv>=20.10.0->pre-commit<4.0.0,>=3.8.0->table_evaluator) (3.13.1)\n",
      "Requirement already satisfied: platformdirs<5,>=3.9.1 in c:\\users\\ahmed\\anaconda3\\lib\\site-packages (from virtualenv>=20.10.0->pre-commit<4.0.0,>=3.8.0->table_evaluator) (3.10.0)\n",
      "Requirement already satisfied: executing in c:\\users\\ahmed\\anaconda3\\lib\\site-packages (from stack-data->ipython<9.0.0,>=8.28.0->table_evaluator) (0.8.3)\n",
      "Requirement already satisfied: asttokens in c:\\users\\ahmed\\anaconda3\\lib\\site-packages (from stack-data->ipython<9.0.0,>=8.28.0->table_evaluator) (2.0.5)\n",
      "Requirement already satisfied: pure-eval in c:\\users\\ahmed\\anaconda3\\lib\\site-packages (from stack-data->ipython<9.0.0,>=8.28.0->table_evaluator) (0.2.2)\n",
      "Note: you may need to restart the kernel to use updated packages.\n"
     ]
    }
   ],
   "source": [
    "pip install --upgrade table_evaluator"
   ]
  },
  {
   "cell_type": "code",
   "execution_count": 24,
   "id": "89604777-1551-45bd-9d8b-d97c5e7c0d7b",
   "metadata": {},
   "outputs": [
    {
     "data": {
      "text/plain": [
       "(500, 3736)"
      ]
     },
     "execution_count": 24,
     "metadata": {},
     "output_type": "execute_result"
    }
   ],
   "source": [
    "data_fake.shape"
   ]
  },
  {
   "cell_type": "code",
   "execution_count": 25,
   "id": "590db406-6b9b-4dff-beca-1e5aa590a4fd",
   "metadata": {},
   "outputs": [],
   "source": [
    "from table_evaluator import load_data, TableEvaluator"
   ]
  },
  {
   "cell_type": "code",
   "execution_count": 26,
   "id": "cae50ed1-3eef-429e-b18d-bc9b7cbb3b75",
   "metadata": {},
   "outputs": [],
   "source": [
    "real, fake = load_data('D:\\\\Excel data\\\\Saliva\\\\Healthy (Control)\\\\CONTROL DATASET.csv', 'C:\\\\Users\\\\Ahmed\\\\Final\\\\synthetic_data_AE_SVM.csv')"
   ]
  },
  {
   "cell_type": "code",
   "execution_count": 27,
   "id": "277eb544-69b1-440b-accf-237cd1ff0545",
   "metadata": {},
   "outputs": [
    {
     "data": {
      "text/html": [
       "<div>\n",
       "<style scoped>\n",
       "    .dataframe tbody tr th:only-of-type {\n",
       "        vertical-align: middle;\n",
       "    }\n",
       "\n",
       "    .dataframe tbody tr th {\n",
       "        vertical-align: top;\n",
       "    }\n",
       "\n",
       "    .dataframe thead th {\n",
       "        text-align: right;\n",
       "    }\n",
       "</style>\n",
       "<table border=\"1\" class=\"dataframe\">\n",
       "  <thead>\n",
       "    <tr style=\"text-align: right;\">\n",
       "      <th></th>\n",
       "      <th>Wavelenght399</th>\n",
       "      <th>Wavelenght400</th>\n",
       "      <th>Wavelenght401</th>\n",
       "      <th>Wavelenght402</th>\n",
       "      <th>Wavelenght403</th>\n",
       "      <th>Wavelenght404</th>\n",
       "      <th>Wavelenght405</th>\n",
       "      <th>Wavelenght406</th>\n",
       "      <th>Wavelenght407</th>\n",
       "      <th>Wavelenght408</th>\n",
       "      <th>...</th>\n",
       "      <th>Wavelenght4125</th>\n",
       "      <th>Wavelenght4126</th>\n",
       "      <th>Wavelenght4127</th>\n",
       "      <th>Wavelenght4128</th>\n",
       "      <th>Wavelenght4129</th>\n",
       "      <th>Wavelenght4130</th>\n",
       "      <th>Wavelenght4131</th>\n",
       "      <th>Wavelenght4132</th>\n",
       "      <th>Wavelenght4133</th>\n",
       "      <th>Wavelenght4134</th>\n",
       "    </tr>\n",
       "  </thead>\n",
       "  <tbody>\n",
       "    <tr>\n",
       "      <th>0</th>\n",
       "      <td>0.002788</td>\n",
       "      <td>0.002679</td>\n",
       "      <td>0.002590</td>\n",
       "      <td>0.002397</td>\n",
       "      <td>0.002003</td>\n",
       "      <td>0.001440</td>\n",
       "      <td>0.001000</td>\n",
       "      <td>0.001180</td>\n",
       "      <td>0.002424</td>\n",
       "      <td>0.004826</td>\n",
       "      <td>...</td>\n",
       "      <td>0.055228</td>\n",
       "      <td>0.055092</td>\n",
       "      <td>0.054975</td>\n",
       "      <td>0.054888</td>\n",
       "      <td>0.054804</td>\n",
       "      <td>0.054691</td>\n",
       "      <td>0.054528</td>\n",
       "      <td>0.054321</td>\n",
       "      <td>0.054095</td>\n",
       "      <td>0.055661</td>\n",
       "    </tr>\n",
       "    <tr>\n",
       "      <th>1</th>\n",
       "      <td>0.011223</td>\n",
       "      <td>0.008644</td>\n",
       "      <td>0.005475</td>\n",
       "      <td>0.002793</td>\n",
       "      <td>0.001204</td>\n",
       "      <td>0.001000</td>\n",
       "      <td>0.002254</td>\n",
       "      <td>0.004759</td>\n",
       "      <td>0.007979</td>\n",
       "      <td>0.011209</td>\n",
       "      <td>...</td>\n",
       "      <td>0.061770</td>\n",
       "      <td>0.061952</td>\n",
       "      <td>0.062080</td>\n",
       "      <td>0.062084</td>\n",
       "      <td>0.061915</td>\n",
       "      <td>0.061576</td>\n",
       "      <td>0.061120</td>\n",
       "      <td>0.060638</td>\n",
       "      <td>0.060233</td>\n",
       "      <td>0.061807</td>\n",
       "    </tr>\n",
       "    <tr>\n",
       "      <th>2</th>\n",
       "      <td>0.008241</td>\n",
       "      <td>0.005308</td>\n",
       "      <td>0.002601</td>\n",
       "      <td>0.001042</td>\n",
       "      <td>0.001000</td>\n",
       "      <td>0.002507</td>\n",
       "      <td>0.005380</td>\n",
       "      <td>0.009190</td>\n",
       "      <td>0.013286</td>\n",
       "      <td>0.016967</td>\n",
       "      <td>...</td>\n",
       "      <td>0.074086</td>\n",
       "      <td>0.074106</td>\n",
       "      <td>0.074020</td>\n",
       "      <td>0.073812</td>\n",
       "      <td>0.073489</td>\n",
       "      <td>0.073087</td>\n",
       "      <td>0.072667</td>\n",
       "      <td>0.072293</td>\n",
       "      <td>0.072012</td>\n",
       "      <td>0.073635</td>\n",
       "    </tr>\n",
       "    <tr>\n",
       "      <th>3</th>\n",
       "      <td>0.004690</td>\n",
       "      <td>0.002150</td>\n",
       "      <td>0.001000</td>\n",
       "      <td>0.001314</td>\n",
       "      <td>0.002725</td>\n",
       "      <td>0.004786</td>\n",
       "      <td>0.006996</td>\n",
       "      <td>0.008779</td>\n",
       "      <td>0.009587</td>\n",
       "      <td>0.009128</td>\n",
       "      <td>...</td>\n",
       "      <td>0.048002</td>\n",
       "      <td>0.047823</td>\n",
       "      <td>0.047553</td>\n",
       "      <td>0.047284</td>\n",
       "      <td>0.047106</td>\n",
       "      <td>0.047079</td>\n",
       "      <td>0.047209</td>\n",
       "      <td>0.047450</td>\n",
       "      <td>0.047716</td>\n",
       "      <td>0.048322</td>\n",
       "    </tr>\n",
       "    <tr>\n",
       "      <th>4</th>\n",
       "      <td>-0.000024</td>\n",
       "      <td>0.001000</td>\n",
       "      <td>0.001965</td>\n",
       "      <td>0.002710</td>\n",
       "      <td>0.003198</td>\n",
       "      <td>0.003527</td>\n",
       "      <td>0.003874</td>\n",
       "      <td>0.004343</td>\n",
       "      <td>0.004843</td>\n",
       "      <td>0.005093</td>\n",
       "      <td>...</td>\n",
       "      <td>0.028844</td>\n",
       "      <td>0.028710</td>\n",
       "      <td>0.028535</td>\n",
       "      <td>0.028377</td>\n",
       "      <td>0.028270</td>\n",
       "      <td>0.028223</td>\n",
       "      <td>0.028226</td>\n",
       "      <td>0.028253</td>\n",
       "      <td>0.028278</td>\n",
       "      <td>0.028715</td>\n",
       "    </tr>\n",
       "  </tbody>\n",
       "</table>\n",
       "<p>5 rows × 3736 columns</p>\n",
       "</div>"
      ],
      "text/plain": [
       "   Wavelenght399  Wavelenght400  Wavelenght401  Wavelenght402  Wavelenght403  \\\n",
       "0       0.002788       0.002679       0.002590       0.002397       0.002003   \n",
       "1       0.011223       0.008644       0.005475       0.002793       0.001204   \n",
       "2       0.008241       0.005308       0.002601       0.001042       0.001000   \n",
       "3       0.004690       0.002150       0.001000       0.001314       0.002725   \n",
       "4      -0.000024       0.001000       0.001965       0.002710       0.003198   \n",
       "\n",
       "   Wavelenght404  Wavelenght405  Wavelenght406  Wavelenght407  Wavelenght408  \\\n",
       "0       0.001440       0.001000       0.001180       0.002424       0.004826   \n",
       "1       0.001000       0.002254       0.004759       0.007979       0.011209   \n",
       "2       0.002507       0.005380       0.009190       0.013286       0.016967   \n",
       "3       0.004786       0.006996       0.008779       0.009587       0.009128   \n",
       "4       0.003527       0.003874       0.004343       0.004843       0.005093   \n",
       "\n",
       "   ...  Wavelenght4125  Wavelenght4126  Wavelenght4127  Wavelenght4128  \\\n",
       "0  ...        0.055228        0.055092        0.054975        0.054888   \n",
       "1  ...        0.061770        0.061952        0.062080        0.062084   \n",
       "2  ...        0.074086        0.074106        0.074020        0.073812   \n",
       "3  ...        0.048002        0.047823        0.047553        0.047284   \n",
       "4  ...        0.028844        0.028710        0.028535        0.028377   \n",
       "\n",
       "   Wavelenght4129  Wavelenght4130  Wavelenght4131  Wavelenght4132  \\\n",
       "0        0.054804        0.054691        0.054528        0.054321   \n",
       "1        0.061915        0.061576        0.061120        0.060638   \n",
       "2        0.073489        0.073087        0.072667        0.072293   \n",
       "3        0.047106        0.047079        0.047209        0.047450   \n",
       "4        0.028270        0.028223        0.028226        0.028253   \n",
       "\n",
       "   Wavelenght4133  Wavelenght4134  \n",
       "0        0.054095        0.055661  \n",
       "1        0.060233        0.061807  \n",
       "2        0.072012        0.073635  \n",
       "3        0.047716        0.048322  \n",
       "4        0.028278        0.028715  \n",
       "\n",
       "[5 rows x 3736 columns]"
      ]
     },
     "execution_count": 27,
     "metadata": {},
     "output_type": "execute_result"
    }
   ],
   "source": [
    "real.head()"
   ]
  },
  {
   "cell_type": "code",
   "execution_count": 28,
   "id": "818d8f79-8409-4cc5-86c1-deac7f298449",
   "metadata": {},
   "outputs": [
    {
     "data": {
      "text/html": [
       "<div>\n",
       "<style scoped>\n",
       "    .dataframe tbody tr th:only-of-type {\n",
       "        vertical-align: middle;\n",
       "    }\n",
       "\n",
       "    .dataframe tbody tr th {\n",
       "        vertical-align: top;\n",
       "    }\n",
       "\n",
       "    .dataframe thead th {\n",
       "        text-align: right;\n",
       "    }\n",
       "</style>\n",
       "<table border=\"1\" class=\"dataframe\">\n",
       "  <thead>\n",
       "    <tr style=\"text-align: right;\">\n",
       "      <th></th>\n",
       "      <th>Wavelenght399</th>\n",
       "      <th>Wavelenght400</th>\n",
       "      <th>Wavelenght401</th>\n",
       "      <th>Wavelenght402</th>\n",
       "      <th>Wavelenght403</th>\n",
       "      <th>Wavelenght404</th>\n",
       "      <th>Wavelenght405</th>\n",
       "      <th>Wavelenght406</th>\n",
       "      <th>Wavelenght407</th>\n",
       "      <th>Wavelenght408</th>\n",
       "      <th>...</th>\n",
       "      <th>Wavelenght4125</th>\n",
       "      <th>Wavelenght4126</th>\n",
       "      <th>Wavelenght4127</th>\n",
       "      <th>Wavelenght4128</th>\n",
       "      <th>Wavelenght4129</th>\n",
       "      <th>Wavelenght4130</th>\n",
       "      <th>Wavelenght4131</th>\n",
       "      <th>Wavelenght4132</th>\n",
       "      <th>Wavelenght4133</th>\n",
       "      <th>Wavelenght4134</th>\n",
       "    </tr>\n",
       "  </thead>\n",
       "  <tbody>\n",
       "    <tr>\n",
       "      <th>0</th>\n",
       "      <td>0.015236</td>\n",
       "      <td>0.014044</td>\n",
       "      <td>0.012580</td>\n",
       "      <td>0.011219</td>\n",
       "      <td>0.010136</td>\n",
       "      <td>0.009484</td>\n",
       "      <td>0.009440</td>\n",
       "      <td>0.010122</td>\n",
       "      <td>0.011464</td>\n",
       "      <td>0.013167</td>\n",
       "      <td>...</td>\n",
       "      <td>0.040483</td>\n",
       "      <td>0.040428</td>\n",
       "      <td>0.040407</td>\n",
       "      <td>0.040389</td>\n",
       "      <td>0.040329</td>\n",
       "      <td>0.040207</td>\n",
       "      <td>0.040054</td>\n",
       "      <td>0.039929</td>\n",
       "      <td>0.039884</td>\n",
       "      <td>0.040326</td>\n",
       "    </tr>\n",
       "    <tr>\n",
       "      <th>1</th>\n",
       "      <td>0.015258</td>\n",
       "      <td>0.015114</td>\n",
       "      <td>0.014445</td>\n",
       "      <td>0.013633</td>\n",
       "      <td>0.012871</td>\n",
       "      <td>0.012262</td>\n",
       "      <td>0.011918</td>\n",
       "      <td>0.011978</td>\n",
       "      <td>0.012542</td>\n",
       "      <td>0.013571</td>\n",
       "      <td>...</td>\n",
       "      <td>0.040650</td>\n",
       "      <td>0.040617</td>\n",
       "      <td>0.040626</td>\n",
       "      <td>0.040652</td>\n",
       "      <td>0.040654</td>\n",
       "      <td>0.040607</td>\n",
       "      <td>0.040528</td>\n",
       "      <td>0.040454</td>\n",
       "      <td>0.040415</td>\n",
       "      <td>0.040803</td>\n",
       "    </tr>\n",
       "    <tr>\n",
       "      <th>2</th>\n",
       "      <td>0.018012</td>\n",
       "      <td>0.017567</td>\n",
       "      <td>0.016307</td>\n",
       "      <td>0.014778</td>\n",
       "      <td>0.013322</td>\n",
       "      <td>0.012209</td>\n",
       "      <td>0.011703</td>\n",
       "      <td>0.012014</td>\n",
       "      <td>0.013166</td>\n",
       "      <td>0.014920</td>\n",
       "      <td>...</td>\n",
       "      <td>0.040944</td>\n",
       "      <td>0.040918</td>\n",
       "      <td>0.040923</td>\n",
       "      <td>0.040902</td>\n",
       "      <td>0.040808</td>\n",
       "      <td>0.040645</td>\n",
       "      <td>0.040475</td>\n",
       "      <td>0.040377</td>\n",
       "      <td>0.040394</td>\n",
       "      <td>0.040991</td>\n",
       "    </tr>\n",
       "    <tr>\n",
       "      <th>3</th>\n",
       "      <td>0.016497</td>\n",
       "      <td>0.015980</td>\n",
       "      <td>0.015095</td>\n",
       "      <td>0.014194</td>\n",
       "      <td>0.013498</td>\n",
       "      <td>0.013143</td>\n",
       "      <td>0.013203</td>\n",
       "      <td>0.013669</td>\n",
       "      <td>0.014422</td>\n",
       "      <td>0.015246</td>\n",
       "      <td>...</td>\n",
       "      <td>0.042159</td>\n",
       "      <td>0.042111</td>\n",
       "      <td>0.042097</td>\n",
       "      <td>0.042106</td>\n",
       "      <td>0.042099</td>\n",
       "      <td>0.042050</td>\n",
       "      <td>0.041967</td>\n",
       "      <td>0.041893</td>\n",
       "      <td>0.041872</td>\n",
       "      <td>0.042232</td>\n",
       "    </tr>\n",
       "    <tr>\n",
       "      <th>4</th>\n",
       "      <td>0.011148</td>\n",
       "      <td>0.012882</td>\n",
       "      <td>0.014374</td>\n",
       "      <td>0.015376</td>\n",
       "      <td>0.015806</td>\n",
       "      <td>0.015733</td>\n",
       "      <td>0.015373</td>\n",
       "      <td>0.015018</td>\n",
       "      <td>0.014904</td>\n",
       "      <td>0.015083</td>\n",
       "      <td>...</td>\n",
       "      <td>0.040938</td>\n",
       "      <td>0.040817</td>\n",
       "      <td>0.040661</td>\n",
       "      <td>0.040471</td>\n",
       "      <td>0.040244</td>\n",
       "      <td>0.040001</td>\n",
       "      <td>0.039798</td>\n",
       "      <td>0.039700</td>\n",
       "      <td>0.039745</td>\n",
       "      <td>0.040292</td>\n",
       "    </tr>\n",
       "  </tbody>\n",
       "</table>\n",
       "<p>5 rows × 3736 columns</p>\n",
       "</div>"
      ],
      "text/plain": [
       "   Wavelenght399  Wavelenght400  Wavelenght401  Wavelenght402  Wavelenght403  \\\n",
       "0       0.015236       0.014044       0.012580       0.011219       0.010136   \n",
       "1       0.015258       0.015114       0.014445       0.013633       0.012871   \n",
       "2       0.018012       0.017567       0.016307       0.014778       0.013322   \n",
       "3       0.016497       0.015980       0.015095       0.014194       0.013498   \n",
       "4       0.011148       0.012882       0.014374       0.015376       0.015806   \n",
       "\n",
       "   Wavelenght404  Wavelenght405  Wavelenght406  Wavelenght407  Wavelenght408  \\\n",
       "0       0.009484       0.009440       0.010122       0.011464       0.013167   \n",
       "1       0.012262       0.011918       0.011978       0.012542       0.013571   \n",
       "2       0.012209       0.011703       0.012014       0.013166       0.014920   \n",
       "3       0.013143       0.013203       0.013669       0.014422       0.015246   \n",
       "4       0.015733       0.015373       0.015018       0.014904       0.015083   \n",
       "\n",
       "   ...  Wavelenght4125  Wavelenght4126  Wavelenght4127  Wavelenght4128  \\\n",
       "0  ...        0.040483        0.040428        0.040407        0.040389   \n",
       "1  ...        0.040650        0.040617        0.040626        0.040652   \n",
       "2  ...        0.040944        0.040918        0.040923        0.040902   \n",
       "3  ...        0.042159        0.042111        0.042097        0.042106   \n",
       "4  ...        0.040938        0.040817        0.040661        0.040471   \n",
       "\n",
       "   Wavelenght4129  Wavelenght4130  Wavelenght4131  Wavelenght4132  \\\n",
       "0        0.040329        0.040207        0.040054        0.039929   \n",
       "1        0.040654        0.040607        0.040528        0.040454   \n",
       "2        0.040808        0.040645        0.040475        0.040377   \n",
       "3        0.042099        0.042050        0.041967        0.041893   \n",
       "4        0.040244        0.040001        0.039798        0.039700   \n",
       "\n",
       "   Wavelenght4133  Wavelenght4134  \n",
       "0        0.039884        0.040326  \n",
       "1        0.040415        0.040803  \n",
       "2        0.040394        0.040991  \n",
       "3        0.041872        0.042232  \n",
       "4        0.039745        0.040292  \n",
       "\n",
       "[5 rows x 3736 columns]"
      ]
     },
     "execution_count": 28,
     "metadata": {},
     "output_type": "execute_result"
    }
   ],
   "source": [
    "fake.head()"
   ]
  },
  {
   "cell_type": "code",
   "execution_count": 29,
   "id": "005ce34c-5464-4ff5-8f25-5484b58b54ed",
   "metadata": {},
   "outputs": [
    {
     "name": "stderr",
     "output_type": "stream",
     "text": [
      "C:\\Users\\Ahmed\\AppData\\Local\\Temp\\ipykernel_7316\\3995599451.py:8: PerformanceWarning: DataFrame is highly fragmented.  This is usually the result of calling `frame.insert` many times, which has poor performance.  Consider joining all columns at once using pd.concat(axis=1) instead. To get a de-fragmented frame, use `newframe = frame.copy()`\n",
      "  fake['label'] = 1  # Synthetic\n"
     ]
    }
   ],
   "source": [
    "# Apply the classifier\n",
    "\n",
    "# Suppress warnings\n",
    "warnings.simplefilter(action='ignore', category=FutureWarning)\n",
    "\n",
    "# === Label datasets ===\n",
    "real['label'] = 0  # Real\n",
    "fake['label'] = 1  # Synthetic\n",
    "\n",
    "# === Combine datasets ===\n",
    "combined_data = pd.concat([real, fake], ignore_index=True)\n",
    "\n",
    "# === Shuffle the data ===\n",
    "combined_data = combined_data.sample(frac=1, random_state=42).reset_index(drop=True)\n",
    "\n",
    "# === Split features and labels ===\n",
    "X = combined_data.drop('label', axis=1)\n",
    "y = combined_data['label']\n",
    "\n",
    "# === Train/test split ===\n",
    "X_train, X_test, y_train, y_test = train_test_split(X, y, test_size=0.3, random_state=42)"
   ]
  },
  {
   "cell_type": "code",
   "execution_count": 30,
   "id": "4ac78c11-efe9-49f6-a521-0488e56730a8",
   "metadata": {},
   "outputs": [],
   "source": [
    "# === Set up Support Vector Machine Classifier ===\n",
    "clf = SVC(kernel='rbf', probability=False, random_state=42)\n",
    "clf.fit(X_train, y_train)\n",
    "\n",
    "# === Predict ===\n",
    "y_pred = clf.predict(X_test)\n",
    "\n",
    "# === Evaluation ===\n",
    "conf_matrix = confusion_matrix(y_test, y_pred)\n",
    "accuracy = accuracy_score(y_test, y_pred)\n",
    "precision = precision_score(y_test, y_pred)\n",
    "recall = recall_score(y_test, y_pred)\n",
    "f1 = f1_score(y_test, y_pred)"
   ]
  },
  {
   "cell_type": "code",
   "execution_count": 31,
   "id": "6315b92b-a725-47c4-8fe2-c925002d87de",
   "metadata": {},
   "outputs": [
    {
     "data": {
      "image/png": "[encoded data removed]",
      "text/plain": [
       "<Figure size 600x500 with 2 Axes>"
      ]
     },
     "metadata": {},
     "output_type": "display_data"
    },
    {
     "name": "stdout",
     "output_type": "stream",
     "text": [
      "Accuracy:  0.8733\n",
      "Precision: 0.7912\n",
      "Recall:    1.0000\n",
      "F1 Score:  0.8834\n"
     ]
    }
   ],
   "source": [
    "# === Display Confusion Matrix ===\n",
    "plt.figure(figsize=(6, 5))\n",
    "sns.heatmap(conf_matrix, annot=True, fmt=\"d\", cmap=\"Blues\",\n",
    "            xticklabels=[\"Real\", \"Synthetic\"],\n",
    "            yticklabels=[\"Real\", \"Synthetic\"])\n",
    "plt.xlabel(\"Predicted Label\")\n",
    "plt.ylabel(\"True Label\")\n",
    "plt.title(f\"Confusion Matrix (Accuracy = {accuracy:.2f})\")\n",
    "plt.tight_layout()\n",
    "plt.show()\n",
    "\n",
    "# === Print metrics ===\n",
    "print(f\"Accuracy:  {accuracy:.4f}\")\n",
    "print(f\"Precision: {precision:.4f}\")\n",
    "print(f\"Recall:    {recall:.4f}\")\n",
    "print(f\"F1 Score:  {f1:.4f}\")"
   ]
  },
  {
   "cell_type": "code",
   "execution_count": 33,
   "id": "54b476b8-f2ab-4ba0-9803-209c9eb4ae6a",
   "metadata": {},
   "outputs": [],
   "source": [
    "# 10-fold cross validation \n",
    "\n",
    "# === Label datasets ===\n",
    "real['label'] = 0  # Real\n",
    "fake['label'] = 1  # Synthetic\n",
    "\n",
    "# === Combine datasets ===\n",
    "combined_data = pd.concat([real, fake], ignore_index=True)\n",
    "combined_data = combined_data.sample(frac=1, random_state=42).reset_index(drop=True)\n",
    "\n",
    "# === Split features and labels ===\n",
    "X = combined_data.drop('label', axis=1)\n",
    "y = combined_data['label']\n",
    "\n",
    "# === Set up SVM Classifier and Cross-Validation ===\n",
    "classifier = SVC(kernel='rbf', random_state=42)\n",
    "cv = StratifiedKFold(n_splits=10, shuffle=True, random_state=42)\n",
    "\n",
    "# === Cross-validated predictions ===\n",
    "y_pred_class = cross_val_predict(classifier, X, y, cv=cv)\n",
    "\n",
    "# === Compute metrics ===\n",
    "accuracy = accuracy_score(y, y_pred_class)\n",
    "precision = precision_score(y, y_pred_class)\n",
    "recall = recall_score(y, y_pred_class)\n",
    "f1 = f1_score(y, y_pred_class)\n",
    "conf_matrix = confusion_matrix(y, y_pred_class)"
   ]
  },
  {
   "cell_type": "code",
   "execution_count": 34,
   "id": "fa109271-e8a0-4115-b3ae-3b175fc4b58a",
   "metadata": {},
   "outputs": [
    {
     "name": "stdout",
     "output_type": "stream",
     "text": [
      "Accuracy:  0.8870\n",
      "Precision: 0.8157\n",
      "Recall:    1.0000\n",
      "F1 Score:  0.8985\n"
     ]
    },
    {
     "data": {
      "image/png": "[encoded data removed]",
      "text/plain": [
       "<Figure size 600x500 with 2 Axes>"
      ]
     },
     "metadata": {},
     "output_type": "display_data"
    }
   ],
   "source": [
    "# === Print metrics ===\n",
    "print(f\"Accuracy:  {accuracy:.4f}\")\n",
    "print(f\"Precision: {precision:.4f}\")\n",
    "print(f\"Recall:    {recall:.4f}\")\n",
    "print(f\"F1 Score:  {f1:.4f}\")\n",
    "\n",
    "# === Plot Confusion Matrix ===\n",
    "plt.figure(figsize=(6, 5))\n",
    "sns.heatmap(conf_matrix, annot=True, fmt='d', cmap='Blues',\n",
    "            xticklabels=[\"Real\", \"Synthetic\"],\n",
    "            yticklabels=[\"Real\", \"Synthetic\"])\n",
    "plt.xlabel('Predicted Label')\n",
    "plt.ylabel('True Label')\n",
    "plt.title('Confusion Matrix (SVM - 10-Fold CV)')\n",
    "plt.tight_layout()\n",
    "plt.show()"
   ]
  },
  {
   "cell_type": "code",
   "execution_count": 35,
   "id": "76df5410-7aa8-41fc-a9b0-2a8926566e68",
   "metadata": {},
   "outputs": [
    {
     "data": {
      "image/png": "[encoded data removed]",
      "text/plain": [
       "<Figure size 600x500 with 2 Axes>"
      ]
     },
     "metadata": {},
     "output_type": "display_data"
    },
    {
     "name": "stdout",
     "output_type": "stream",
     "text": [
      "Accuracy:  0.9700\n",
      "Precision: 0.9434\n",
      "Recall:    1.0000\n",
      "F1 Score:  0.9709\n"
     ]
    }
   ],
   "source": [
    "# Mixed the Real and the fake data, took 50% of each dataset, and combined them. \n",
    "\n",
    "# === Load datasets ===\n",
    "real_data = pd.read_csv('D:\\\\Excel data\\\\Saliva\\\\Healthy (Control)\\\\CONTROL DATASET.csv')\n",
    "fake_data = pd.read_csv('C:\\\\Users\\\\Ahmed\\\\Final\\\\synthetic_data_AE_SVM.csv')\n",
    "\n",
    "# === Take 50% from each dataset ===\n",
    "real_sample = real_data.sample(frac=0.5, random_state=42)\n",
    "fake_sample = fake_data.sample(frac=0.5, random_state=42)\n",
    "\n",
    "# === Label the datasets ===\n",
    "real_sample['label'] = 0  # Real\n",
    "fake_sample['label'] = 1  # Synthetic\n",
    "\n",
    "# === Combine datasets ===\n",
    "combined_data = pd.concat([real_sample, fake_sample], ignore_index=True)\n",
    "combined_data = combined_data.sample(frac=1, random_state=42).reset_index(drop=True)\n",
    "\n",
    "# === Split features and labels ===\n",
    "X = combined_data.drop('label', axis=1)\n",
    "y = combined_data['label']\n",
    "\n",
    "# === Standardize features ===\n",
    "scaler = StandardScaler()\n",
    "X_scaled = scaler.fit_transform(X)\n",
    "\n",
    "# === Train/Test Split ===\n",
    "X_train, X_test, y_train, y_test = train_test_split(X_scaled, y, test_size=0.2, stratify=y, random_state=42)\n",
    "\n",
    "# === Set up Support Vector Machine Classifier ===\n",
    "clf = SVC(kernel='rbf', probability=False, random_state=42)\n",
    "clf.fit(X_train, y_train)\n",
    "\n",
    "# === Predict ===\n",
    "y_pred = clf.predict(X_test)\n",
    "\n",
    "# === Evaluation ===\n",
    "conf_matrix = confusion_matrix(y_test, y_pred)\n",
    "accuracy = accuracy_score(y_test, y_pred)\n",
    "precision = precision_score(y_test, y_pred)\n",
    "recall = recall_score(y_test, y_pred)\n",
    "f1 = f1_score(y_test, y_pred)\n",
    "\n",
    "# === Display Confusion Matrix ===\n",
    "plt.figure(figsize=(6, 5))\n",
    "sns.heatmap(conf_matrix, annot=True, fmt=\"d\", cmap=\"Blues\",\n",
    "            xticklabels=[\"Real\", \"Synthetic\"],\n",
    "            yticklabels=[\"Real\", \"Synthetic\"])\n",
    "plt.xlabel(\"Predicted Label\")\n",
    "plt.ylabel(\"True Label\")\n",
    "plt.title(f\"Confusion Matrix (Accuracy = {accuracy:.2f})\")\n",
    "plt.tight_layout()\n",
    "plt.show()\n",
    "\n",
    "# === Print metrics ===\n",
    "print(f\"Accuracy:  {accuracy:.4f}\")\n",
    "print(f\"Precision: {precision:.4f}\")\n",
    "print(f\"Recall:    {recall:.4f}\")\n",
    "print(f\"F1 Score:  {f1:.4f}\")"
   ]
  },
  {
   "cell_type": "code",
   "execution_count": null,
   "id": "62718b48-2368-433f-93fc-94d4b2ba64d6",
   "metadata": {},
   "outputs": [],
   "source": []
  }
 ],
 "metadata": {
  "kernelspec": {
   "display_name": "Python 3 (ipykernel)",
   "language": "python",
   "name": "python3"
  },
  "language_info": {
   "codemirror_mode": {
    "name": "ipython",
    "version": 3
   },
   "file_extension": ".py",
   "mimetype": "text/x-python",
   "name": "python",
   "nbconvert_exporter": "python",
   "pygments_lexer": "ipython3",
   "version": "3.12.7"
  }
 },
 "nbformat": 4,
 "nbformat_minor": 5
}
